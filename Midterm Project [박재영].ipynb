Kaggle Project
Describe Your Dataset
URL: https://www.kaggle.com/...

Task:

...

...

Datasets

Train dataset: ...

Validation dataset: ...

Test dataset: ...

Features(x):

...

...

Target(y):

...

...

Build Your Model
Data preprocessing
## codes
Model Construction
## codes
Train Model & Select Model
## codes
Performance
## codes
The results explains

....
